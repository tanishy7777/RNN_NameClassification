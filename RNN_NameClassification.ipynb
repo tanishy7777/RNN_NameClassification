{
  "nbformat": 4,
  "nbformat_minor": 0,
  "metadata": {
    "colab": {
      "provenance": [],
      "gpuType": "V28",
      "authorship_tag": "ABX9TyMWaQjWumGAabUQwBr3e68L",
      "include_colab_link": true
    },
    "kernelspec": {
      "name": "python3",
      "display_name": "Python 3"
    },
    "language_info": {
      "name": "python"
    },
    "accelerator": "TPU"
  },
  "cells": [
    {
      "cell_type": "markdown",
      "metadata": {
        "id": "view-in-github",
        "colab_type": "text"
      },
      "source": [
        "<a href=\"https://colab.research.google.com/github/tanishy7777/RNN_NameClassification/blob/main/RNN_NameClassification.ipynb\" target=\"_parent\"><img src=\"https://colab.research.google.com/assets/colab-badge.svg\" alt=\"Open In Colab\"/></a>"
      ]
    },
    {
      "cell_type": "code",
      "source": [
        "import io\n",
        "import os\n",
        "import unicodedata\n",
        "import string\n",
        "import glob\n",
        "\n",
        "import torch\n",
        "import random"
      ],
      "metadata": {
        "id": "QgTBYIc8GK6I"
      },
      "execution_count": 4,
      "outputs": []
    },
    {
      "cell_type": "code",
      "source": [
        "# alphabet small + capital letters + \" .,;'\"\n",
        "ALL_LETTERS = string.ascii_letters + \" .,;'\"\n",
        "N_LETTERS = len(ALL_LETTERS)\n",
        "\n",
        "# Turn a Unicode string to plain ASCII, thanks to https://stackoverflow.com/a/518232/2809427\n",
        "def unicode_to_ascii(s):\n",
        "    return ''.join(\n",
        "        c for c in unicodedata.normalize('NFD', s)\n",
        "        if unicodedata.category(c) != 'Mn'\n",
        "        and c in ALL_LETTERS\n",
        "    )\n",
        "\n",
        "def load_data():\n",
        "    # Build the category_lines dictionary, a list of names per language\n",
        "    category_lines = {}\n",
        "    all_categories = []\n",
        "\n",
        "    def find_files(path):\n",
        "        return glob.glob(path)\n",
        "\n",
        "    # Read a file and split into lines\n",
        "    def read_lines(filename):\n",
        "        lines = io.open(filename, encoding='utf-8').read().strip().split('\\n')\n",
        "        return [unicode_to_ascii(line) for line in lines]\n",
        "\n",
        "    for filename in find_files('./data/names/*.txt'):\n",
        "        category = os.path.splitext(os.path.basename(filename))[0]\n",
        "        all_categories.append(category)\n",
        "\n",
        "        lines = read_lines(filename)\n",
        "        category_lines[category] = lines\n",
        "\n",
        "    return category_lines, all_categories\n",
        "\n",
        "\n",
        "\n",
        "\"\"\"\n",
        "To represent a single letter, we use a “one-hot vector” of\n",
        "size <1 x n_letters>. A one-hot vector is filled with 0s\n",
        "except for a 1 at index of the current letter, e.g. \"b\" = <0 1 0 0 0 ...>.\n",
        "\n",
        "To make a word we join a bunch of those into a\n",
        "2D matrix (line/word_length x (1 x n_letters)).\n",
        "\n",
        "That extra 1 dimension is because PyTorch assumes\n",
        "everything is in batches - we’re just using a batch size of 1 here.\n",
        "\"\"\"\n",
        "\n",
        "# Find letter index from all_letters, e.g. \"a\" = 0\n",
        "def letter_to_index(letter):\n",
        "    return ALL_LETTERS.find(letter)\n",
        "\n",
        "# Just for demonstration, turn a letter into a <1 x n_letters> Tensor\n",
        "def letter_to_tensor(letter):\n",
        "    tensor = torch.zeros(1, N_LETTERS)\n",
        "    tensor[0][letter_to_index(letter)] = 1\n",
        "    return tensor\n",
        "\n",
        "# Turn a line into a <line_length x 1 x n_letters>,\n",
        "# or an array of one-hot letter vectors\n",
        "def line_to_tensor(line):\n",
        "    tensor = torch.zeros(len(line), 1, N_LETTERS)\n",
        "    for i, letter in enumerate(line):\n",
        "        tensor[i][0][letter_to_index(letter)] = 1\n",
        "    return tensor\n",
        "\n",
        "\n",
        "def random_training_example(category_lines, all_categories):\n",
        "\n",
        "    def random_choice(a):\n",
        "        random_idx = random.randint(0, len(a) - 1)\n",
        "        return a[random_idx]\n",
        "\n",
        "    category = random_choice(all_categories)\n",
        "    line = random_choice(category_lines[category])\n",
        "    category_tensor = torch.tensor([all_categories.index(category)], dtype=torch.long)\n",
        "    line_tensor = line_to_tensor(line)\n",
        "    return category, line, category_tensor, line_tensor"
      ],
      "metadata": {
        "id": "Yg8qQdTfFXSJ"
      },
      "execution_count": 17,
      "outputs": []
    },
    {
      "cell_type": "code",
      "source": [
        "import torch\n",
        "import torch.nn as nn\n",
        "import matplotlib.pyplot as plt"
      ],
      "metadata": {
        "id": "5cRWsj-3IkVy"
      },
      "execution_count": 24,
      "outputs": []
    },
    {
      "cell_type": "markdown",
      "source": [
        "There is a builtin RNN class in pytorch but the below implementation is from scratch."
      ],
      "metadata": {
        "id": "lh_rhBcaSDuD"
      }
    },
    {
      "cell_type": "code",
      "source": [
        "class RNN(nn.Module):\n",
        "  def __init__(self, input_size, hidden_size, output_size):\n",
        "    super(RNN, self).__init__()\n",
        "\n",
        "    self.hidden_size = hidden_size\n",
        "    self.i2h = nn.Linear(input_size + hidden_size, hidden_size)\n",
        "    self.i2o = nn.Linear(input_size + hidden_size, output_size)\n",
        "    # self.softmax = nn.LogSoftmax(dim=1)  #  output_dim = 1 x 18, since 18 classes(countries)\n",
        "\n",
        "  def forward(self, input_tensor, hidden_tensor):\n",
        "    combined = torch.cat((input_tensor, hidden_tensor), 1)\n",
        "\n",
        "    hidden = self.i2h(combined)\n",
        "    output = self.i2o(combined)\n",
        "    # output = self.softmax(output)\n",
        "    return output, hidden\n",
        "\n",
        "  def init_hidden(self):\n",
        "    return torch.zeros(1, self.hidden_size)\n",
        "\n",
        "category_lines, all_categories = load_data()\n",
        "n_categories = len(all_categories)   # 18 categories\n",
        "\n",
        "n_hidden = 128\n",
        "rnn = RNN(N_LETTERS, n_hidden, n_categories)\n",
        "\n",
        "# # one step\n",
        "# input_tensor = letter_to_tensor('A')\n",
        "# hidden_tensor = rnn.init_hidden()\n",
        "\n",
        "# output, next_hidden = rnn(input_tensor, hidden_tensor)\n",
        "# print(output.shape)\n",
        "# print(next_hidden.shape)\n",
        "\n",
        "# # whole sequence/name\n",
        "# input_tensor = line_to_tensor('Albert')\n",
        "# hidden_tensor = rnn.init_hidden()\n",
        "\n",
        "# output, next_hidden = rnn(input_tensor[0], hidden_tensor)\n",
        "# print(output.shape)\n",
        "# print(next_hidden.shape)\n",
        "\n"
      ],
      "metadata": {
        "id": "EETxnsY1PHFq"
      },
      "execution_count": 39,
      "outputs": []
    },
    {
      "cell_type": "code",
      "source": [
        "# output is 1x18 and the entries are the log of probabilities of each class\n",
        "def category_from_output(output):\n",
        "  category_idx = torch.argmax(output).item()\n",
        "  return all_categories[category_idx]\n",
        "print(category_from_output(output))"
      ],
      "metadata": {
        "colab": {
          "base_uri": "https://localhost:8080/"
        },
        "id": "-DPiiFpFUS5L",
        "outputId": "042f7ee8-930d-4545-ded6-e124b1823114"
      },
      "execution_count": 40,
      "outputs": [
        {
          "output_type": "stream",
          "name": "stdout",
          "text": [
            "Korean\n"
          ]
        }
      ]
    },
    {
      "cell_type": "markdown",
      "source": [
        "NLLLOSS and cross entropy both are used for multiclass classification problems\n",
        "\n",
        "cross entropy -> Logsoftmax + NLLLOSS\n",
        "\n",
        "NLLLOSS expects Log probabilities as inputs"
      ],
      "metadata": {
        "id": "RutO2pvogd6x"
      }
    },
    {
      "cell_type": "code",
      "source": [
        "criterion = nn.CrossEntropyLoss()\n",
        "lr = 0.005\n",
        "optimizer = torch.optim.SGD(rnn.parameters(), lr=lr)"
      ],
      "metadata": {
        "id": "2WNoxDwcYaXg"
      },
      "execution_count": 41,
      "outputs": []
    },
    {
      "cell_type": "code",
      "source": [
        "def train(line_tensor, category_tensor):\n",
        "  hidden = rnn.init_hidden()\n",
        "                # length of the name\n",
        "  for i in range(line_tensor.shape[0]):\n",
        "    output, hidden = rnn(line_tensor[i], hidden)\n",
        "\n",
        "  loss = criterion(output, category_tensor)\n",
        "\n",
        "  optimizer.zero_grad()\n",
        "  loss.backward()\n",
        "\n",
        "  optimizer.step()\n",
        "  return output, loss.item()\n",
        "\n",
        "current_loss = 0\n",
        "all_losses = []\n",
        "plot_steps, print_steps = 1000, 5000\n",
        "n_iters = 100000\n",
        "for i in range(n_iters):\n",
        "    category, line, category_tensor, line_tensor = random_training_example(category_lines, all_categories)\n",
        "\n",
        "    output, loss = train(line_tensor, category_tensor)\n",
        "    current_loss += loss\n",
        "\n",
        "    if (i+1) % plot_steps == 0:\n",
        "        all_losses.append(current_loss / plot_steps)\n",
        "        current_loss = 0\n",
        "\n",
        "    if (i+1) % print_steps == 0:\n",
        "        guess = category_from_output(output)\n",
        "        correct = \"CORRECT\" if guess == category else f\"WRONG ({category})\"\n",
        "        print(f\"{i+1} {(i+1)/n_iters*100} {loss:.4f} {line} / {guess} {correct}\")\n",
        "\n",
        "\n",
        "plt.figure()\n",
        "plt.plot(all_losses)\n",
        "plt.show()\n"
      ],
      "metadata": {
        "colab": {
          "base_uri": "https://localhost:8080/",
          "height": 777
        },
        "id": "b4zbnJIgY1kd",
        "outputId": "47eca98a-a6e0-470b-e9f2-f991327cf712"
      },
      "execution_count": 42,
      "outputs": [
        {
          "output_type": "stream",
          "name": "stdout",
          "text": [
            "5000 5.0 1.6150 Luo / Chinese CORRECT\n",
            "10000 10.0 2.6858 Silveira / Japanese WRONG (Portuguese)\n",
            "15000 15.0 0.9665 Zhao / Chinese CORRECT\n",
            "20000 20.0 1.3452 Slepicka / Polish WRONG (Czech)\n",
            "25000 25.0 1.8112 Fallon / Scottish WRONG (English)\n",
            "30000 30.0 1.6941 De la fontaine / Portuguese WRONG (French)\n",
            "35000 35.0 1.9429 Patzevich / Czech WRONG (Russian)\n",
            "40000 40.0 0.1729 Avdulov / Russian CORRECT\n",
            "45000 45.0 1.8031 Abadi / Japanese WRONG (Arabic)\n",
            "50000 50.0 1.0083 Klimek / Czech WRONG (Polish)\n",
            "55000 55.00000000000001 2.9411 Bohm / Vietnamese WRONG (German)\n",
            "60000 60.0 2.9608 Beveridge / French WRONG (English)\n",
            "65000 65.0 1.6029 Gallchobhar / French WRONG (Irish)\n",
            "70000 70.0 0.7793 Alves / Portuguese CORRECT\n",
            "75000 75.0 0.5642 Harb / Arabic CORRECT\n",
            "80000 80.0 0.8737 Havlatova / Czech CORRECT\n",
            "85000 85.0 2.1115 Hall / Scottish WRONG (German)\n",
            "90000 90.0 1.8291 Paternoster / Dutch WRONG (French)\n",
            "95000 95.0 4.0916 Names / Portuguese WRONG (Irish)\n",
            "100000 100.0 0.6154 Wojda / Polish CORRECT\n"
          ]
        },
        {
          "output_type": "display_data",
          "data": {
            "text/plain": [
              "<Figure size 640x480 with 1 Axes>"
            ],
            "image/png": "[encoded data removed]"
          },
          "metadata": {}
        }
      ]
    },
    {
      "cell_type": "code",
      "source": [
        "def predict(input_line):\n",
        "    print(f\"\\n> {input_line}\")\n",
        "    with torch.no_grad():\n",
        "        line_tensor = line_to_tensor(input_line)  # (line_size x 1 x n_letters) => (batch of one-hot vectors)\n",
        "        hidden = rnn.init_hidden()    # since we dont want the prediction to be affected by older sequences,\n",
        "                                      # it should be based on the input only\n",
        "\n",
        "        for i in range(line_tensor.shape[0]):\n",
        "            output, hidden = rnn(line_tensor[i], hidden)    # pass the sequence/line to RNN character by character\n",
        "                                                            # hidden state is updated after passing every character\n",
        "        guess = category_from_output(output)\n",
        "        print(guess)\n",
        "\n",
        "\n",
        "while True:\n",
        "    sentence = input(\"Input:\")\n",
        "    if sentence == \"quit\":\n",
        "        break\n",
        "\n",
        "    predict(sentence)\n",
        ""
      ],
      "metadata": {
        "colab": {
          "base_uri": "https://localhost:8080/"
        },
        "id": "a3J-HegxbhX4",
        "outputId": "2efcf830-e686-4e1f-cf50-a6f6d50759a7"
      },
      "execution_count": 43,
      "outputs": [
        {
          "name": "stdout",
          "output_type": "stream",
          "text": [
            "Input:mamamia\n",
            "\n",
            "> mamamia\n",
            "Spanish\n",
            "Input:senorit\n",
            "\n",
            "> senorit\n",
            "French\n",
            "Input:senorita\n",
            "\n",
            "> senorita\n",
            "Italian\n",
            "Input:albert\n",
            "\n",
            "> albert\n",
            "French\n",
            "Input:rosa\n",
            "\n",
            "> rosa\n",
            "Spanish\n",
            "Input:quit\n"
          ]
        }
      ]
    },
    {
      "cell_type": "code",
      "source": [],
      "metadata": {
        "id": "YnrWBd_tdUyX"
      },
      "execution_count": null,
      "outputs": []
    }
  ]
}